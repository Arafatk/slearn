{
 "cells": [
  {
   "cell_type": "markdown",
   "metadata": {},
   "source": [
    "## KD Tree\n",
    "This is a simple example of the kd tree usage.  \n",
    "``tree = Kdtree.new(points, 2) # points and 2 dimensions. ``   \n",
    "\n",
    "Here a data frame containing points is passed as input to the tree, 2 refers to the dimensions of the points. This creates a kd tree.    \n",
    "``tree.neighbours(test, 5)``    \n",
    "Here a data frame containing a set of test points is passed as input to the tree, 5 refers to the number of nearest neighbours to be found. It returns a ruby array containing 5 nearest neighbours to all the test points. By using an optional argument of distance in this you can find the distance of the five nearest neighbours and also you can find both the distance to the points and the points themselves as mentioned in the last example.\n",
    "\n"
   ]
  },
  {
   "cell_type": "code",
   "execution_count": 3,
   "metadata": {
    "collapsed": false
   },
   "outputs": [
    {
     "data": {
      "application/javascript": [
       "if(window['d3'] === undefined ||\n",
       "   window['Nyaplot'] === undefined){\n",
       "    var path = {\"d3\":\"https://cdnjs.cloudflare.com/ajax/libs/d3/3.5.5/d3.min\",\"downloadable\":\"http://cdn.rawgit.com/domitry/d3-downloadable/master/d3-downloadable\"};\n",
       "\n",
       "\n",
       "\n",
       "    var shim = {\"d3\":{\"exports\":\"d3\"},\"downloadable\":{\"exports\":\"downloadable\"}};\n",
       "\n",
       "    require.config({paths: path, shim:shim});\n",
       "\n",
       "\n",
       "require(['d3'], function(d3){window['d3']=d3;console.log('finished loading d3');require(['downloadable'], function(downloadable){window['downloadable']=downloadable;console.log('finished loading downloadable');\n",
       "\n",
       "\tvar script = d3.select(\"head\")\n",
       "\t    .append(\"script\")\n",
       "\t    .attr(\"src\", \"http://cdn.rawgit.com/domitry/Nyaplotjs/master/release/nyaplot.js\")\n",
       "\t    .attr(\"async\", true);\n",
       "\n",
       "\tscript[0][0].onload = script[0][0].onreadystatechange = function(){\n",
       "\n",
       "\n",
       "\t    var event = document.createEvent(\"HTMLEvents\");\n",
       "\t    event.initEvent(\"load_nyaplot\",false,false);\n",
       "\t    window.dispatchEvent(event);\n",
       "\t    console.log('Finished loading Nyaplotjs');\n",
       "\n",
       "\t};\n",
       "\n",
       "\n",
       "});});\n",
       "}\n"
      ],
      "text/plain": [
       "\"if(window['d3'] === undefined ||\\n   window['Nyaplot'] === undefined){\\n    var path = {\\\"d3\\\":\\\"https://cdnjs.cloudflare.com/ajax/libs/d3/3.5.5/d3.min\\\",\\\"downloadable\\\":\\\"http://cdn.rawgit.com/domitry/d3-downloadable/master/d3-downloadable\\\"};\\n\\n\\n\\n    var shim = {\\\"d3\\\":{\\\"exports\\\":\\\"d3\\\"},\\\"downloadable\\\":{\\\"exports\\\":\\\"downloadable\\\"}};\\n\\n    require.config({paths: path, shim:shim});\\n\\n\\nrequire(['d3'], function(d3){window['d3']=d3;console.log('finished loading d3');require(['downloadable'], function(downloadable){window['downloadable']=downloadable;console.log('finished loading downloadable');\\n\\n\\tvar script = d3.select(\\\"head\\\")\\n\\t    .append(\\\"script\\\")\\n\\t    .attr(\\\"src\\\", \\\"http://cdn.rawgit.com/domitry/Nyaplotjs/master/release/nyaplot.js\\\")\\n\\t    .attr(\\\"async\\\", true);\\n\\n\\tscript[0][0].onload = script[0][0].onreadystatechange = function(){\\n\\n\\n\\t    var event = document.createEvent(\\\"HTMLEvents\\\");\\n\\t    event.initEvent(\\\"load_nyaplot\\\",false,false);\\n\\t    window.dispatchEvent(event);\\n\\t    console.log('Finished loading Nyaplotjs');\\n\\n\\t};\\n\\n\\n});});\\n}\\n\""
      ]
     },
     "metadata": {},
     "output_type": "display_data"
    },
    {
     "name": "stdout",
     "output_type": "stream",
     "text": [
      "The Co ordinates of 5 nearest points to [8,8].\n",
      "[[8, 6], [6, 6], [7, 4], [4, 7], [6, 12]]\n"
     ]
    }
   ],
   "source": [
    "require 'slearn'\n",
    "points = Daru::DataFrame.new({a: [1,2], b: [1,2]  , c: [2, 3],d: [5, 4],e: [8, 6],f: [6, 6],\n",
    "        g: [4, 7],h: [8, 1],i: [7, 2],j: [6, 2],k: [4,6],\n",
    "        l:  [14, 17],m: [2, 2],n: [6, 12],o: [11, 2],\n",
    "        p:  [7, 4],q: [9, 1],r: [5, 1],s: [7, 1]})\n",
    "tree = Kdtree.new(points, 2) # points and 2 dimensions\n",
    "test = Daru::DataFrame.new({a: [8,8],b: [12,35]})\n",
    "print \"The Co ordinates of 5 nearest points to [8,8].\\n\"\n",
    "print tree.neighbours(test, 5)[0],\"\\n\"  # 5 nearest neighbours"
   ]
  },
  {
   "cell_type": "code",
   "execution_count": 4,
   "metadata": {
    "collapsed": false
   },
   "outputs": [
    {
     "name": "stdout",
     "output_type": "stream",
     "text": [
      "The distances of 5 nearest points to [8,8].\n",
      "[4, 8, 17, 17, 20]\n"
     ]
    }
   ],
   "source": [
    "print \"The distances of 5 nearest points to [8,8].\\n\"\n",
    "print tree.neighbours(test, 5,'distance')[0],\"\\n\"  # 5 nearest neighbours"
   ]
  },
  {
   "cell_type": "code",
   "execution_count": 5,
   "metadata": {
    "collapsed": false
   },
   "outputs": [
    {
     "name": "stdout",
     "output_type": "stream",
     "text": [
      "The Co ordinates and distances of 5 nearest points to [12,35].\n",
      "[[[14, 17], 328], [[6, 12], 565], [[4, 7], 848], [[8, 6], 857], [[6, 6], 877]]\n"
     ]
    }
   ],
   "source": [
    "print \"The Co ordinates and distances of 5 nearest points to [12,35].\\n\"\n",
    "print tree.neighbours(test, 5,\"both\")[1],\"\\n\"  # 5 nearest neighbours"
   ]
  }
 ],
 "metadata": {
  "kernelspec": {
   "display_name": "Ruby 2.2.1",
   "language": "ruby",
   "name": "ruby"
  },
  "language_info": {
   "file_extension": ".rb",
   "mimetype": "application/x-ruby",
   "name": "ruby",
   "version": "2.2.1"
  }
 },
 "nbformat": 4,
 "nbformat_minor": 0
}
